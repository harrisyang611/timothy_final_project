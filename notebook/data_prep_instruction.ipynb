{
 "cells": [
  {
   "cell_type": "markdown",
   "metadata": {},
   "source": [
    "# Data Prepare\n",
    "\n",
    "This note book is written to guide the data prepare process to download from yahoo finance api and generate data with indicator using C++ compiled executables"
   ]
  },
  {
   "cell_type": "code",
   "execution_count": null,
   "metadata": {},
   "outputs": [],
   "source": [
    "\n",
    "import pandas as pd\n",
    "import shutil\n",
    "pd.core.common.is_list_like = pd.api.types.is_list_like\n",
    "from pandas_datareader import data as pdr\n",
    "import datetime\n",
    "## yahoo finance\n",
    "import yfinance as yf\n",
    "yf.pdr_override()\n",
    "import time\n",
    "## used to executable command\n",
    "import subprocess"
   ]
  },
  {
   "cell_type": "code",
   "execution_count": null,
   "metadata": {},
   "outputs": [],
   "source": [
    "## ge the time line\n",
    "start_date=datetime.datetime(2010, 1, 9)\n",
    "end_date=datetime.datetime(2022, 1, 9)\n"
   ]
  },
  {
   "cell_type": "code",
   "execution_count": null,
   "metadata": {},
   "outputs": [],
   "source": [
    "\n",
    "## define a list of stocks\n",
    "stock_list = [\n",
    "    \"^OEX\",\"^NDX\",\"^RUT\",\"^DJI\", ## index\n",
    "]  \n",
    "\n",
    "\n",
    "for stock in stock_list:\n",
    "    ## remove the ^ in front of the stock name, otherwise leave the same\n",
    "    stock_name = stock[1:] if stock[0] == '^' else stock\n",
    "\n",
    "    ## file location\n",
    "    file_location = './data/' + stock_name + '.txt'\n",
    "    ## get yahoo finance from start date to end date\n",
    "    df = pdr.get_data_yahoo(stock, start=start_date, end=end_date)\n",
    "    ## drop adjusted close\n",
    "    df.drop(['Adj Close'], axis=1, inplace=True)\n",
    "    print(stock)\n",
    "    print(f'received data from yf for {stock} with {df.shape}')\n",
    "\n",
    "    df = df.reset_index()\n",
    "    ## change to date to datetime and format it\n",
    "    df['Date'] = pd.to_datetime(df['Date'])\n",
    "    df['Date'] = df['Date'].dt.strftime('%Y%m%d')\n",
    "    ## write  it down to csv file because C++ single exe. only takes in flat files\n",
    "    df.to_csv(file_location, header=None, index=None, sep=' ', mode='a')\n",
    "\n",
    "    ## use popen to execute the single exe\n",
    "    ## because the program will require us to key-input to kill the process\n",
    "    ## we manually kill the program\n",
    "    \n",
    "    p=subprocess.Popen(['.\\exe\\single.exe', file_location, 'VS.txt'])\n",
    "    time.sleep(4)\n",
    "    p.kill()\n",
    "    # # subprocess.call(['.\\exe\\single.exe', file_location, 'VS.txt'])\n",
    "\n",
    "    print('enter is input, executable finishing')\n",
    "\n",
    "    ## single will create file '.\\OUTVARS.TXT' \n",
    "    ## we move to <ticker_name>_singal.txt file\n",
    "    ## loaded the file merge with our original data\n",
    "\n",
    "    signal_location = './data/' + stock_name + '_signal.txt'\n",
    "    shutil.move('.\\OUTVARS.TXT', signal_location)\n",
    "\n",
    "    indicator = pd.read_csv(signal_location ,delim_whitespace=True)\n",
    "    indicator['Date'] = pd.to_datetime(indicator['Date'], format = '%Y%m%d')\n",
    "    indicator['Date'] = indicator['Date'].dt.strftime('%Y%m%d')\n",
    "\n",
    "    print('indicator file has shape', indicator.shape)\n",
    "\n",
    "    df_result = df.merge(indicator, left_on = 'Date', right_on = 'Date', how = 'left')\n",
    "    df_result.to_csv('./data/' + stock_name + '_full.csv', index=False)\n",
    "\n",
    "\n"
   ]
  }
 ],
 "metadata": {
  "kernelspec": {
   "display_name": "Python 3.8.2 64-bit",
   "language": "python",
   "name": "python3"
  },
  "language_info": {
   "name": "python",
   "version": "3.8.2"
  },
  "orig_nbformat": 4,
  "vscode": {
   "interpreter": {
    "hash": "31f2aee4e71d21fbe5cf8b01ff0e069b9275f58929596ceb00d14d90e3e16cd6"
   }
  }
 },
 "nbformat": 4,
 "nbformat_minor": 2
}
