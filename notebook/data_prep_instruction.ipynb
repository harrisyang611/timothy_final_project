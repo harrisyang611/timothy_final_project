{
 "cells": [
  {
   "cell_type": "markdown",
   "metadata": {},
   "source": [
    "# Data Prepare\n",
    "\n",
    "This notebook is written to guide the data prepare process to download from yahoo finance api and generate data with indicator using C++ compiled executables\n",
    "\n",
    "This notebook has run in windows system"
   ]
  },
  {
   "cell_type": "code",
   "execution_count": null,
   "metadata": {},
   "outputs": [],
   "source": [
    "import numpy as np\n",
    "import pandas as pd\n",
    "import shutil\n",
    "pd.core.common.is_list_like = pd.api.types.is_list_like\n",
    "from pandas_datareader import data as pdr\n",
    "import datetime\n",
    "## yahoo finance\n",
    "import yfinance as yf\n",
    "yf.pdr_override()\n",
    "import talib as ta\n",
    "import time\n",
    "## used to executable command\n",
    "import subprocess\n",
    "import os"
   ]
  },
  {
   "cell_type": "code",
   "execution_count": null,
   "metadata": {},
   "outputs": [],
   "source": [
    "## ge the time line\n",
    "start_date=datetime.datetime(2010, 1, 9)\n",
    "end_date=datetime.datetime(2022, 1, 9)"
   ]
  },
  {
   "cell_type": "code",
   "execution_count": null,
   "metadata": {},
   "outputs": [],
   "source": [
    "\n",
    "## define a list of stocks\n",
    "stock_list = [\n",
    "    \"^OEX\", \"^NDX\", \"^RUT\", \"^DJI\", ## index\n",
    "]  \n",
    "\n",
    "## we are currently at ./notebook/\n",
    "## we will write to data_with_indicator\n",
    "## we will load the VS.txt file from same directory\n",
    "outdir = './data_with_indicator/'\n",
    "vs_file = './VS.txt'\n",
    "## our exe file is in previous layer\n",
    "exe_dir = '../exe/'"
   ]
  },
  {
   "cell_type": "code",
   "execution_count": null,
   "metadata": {},
   "outputs": [],
   "source": [
    "## create your out directory if not exist\n",
    "if not os.path.exists(outdir):\n",
    "    os.makedirs(outdir)"
   ]
  },
  {
   "cell_type": "code",
   "execution_count": null,
   "metadata": {},
   "outputs": [],
   "source": [
    "def get_yahoo_data(stock, outfile, start_date, end_date):\n",
    "\n",
    "    ## get yahoo finance from start date to end date\n",
    "    df = pdr.get_data_yahoo(stock, start=start_date, end=end_date)\n",
    "    ## drop adjusted close\n",
    "    df.drop(['Adj Close'], axis=1, inplace=True)\n",
    "    print(stock)\n",
    "    print(f'received data from yf for {stock} with {df.shape}')\n",
    "\n",
    "    df = df.reset_index()\n",
    "    ## change to date to datetime and format it\n",
    "    df['Date'] = pd.to_datetime(df['Date'])\n",
    "    df['Date'] = df['Date'].dt.strftime('%Y%m%d')\n",
    "    ## write it down to csv file because C++ single exe. only takes in flat files with specific format\n",
    "    df.to_csv(outfile, header=None, index=None, sep=' ', mode='a')\n",
    "\n",
    "    return(df)"
   ]
  },
  {
   "cell_type": "code",
   "execution_count": null,
   "metadata": {},
   "outputs": [],
   "source": [
    "\n",
    "\n",
    "for stock in stock_list:\n",
    "    ## remove the ^ in front of the stock name, otherwise leave the same\n",
    "    ## stock index requires a ^ in the front for yahoo finance to scrape\n",
    "    \n",
    "    stock_name = stock[1:] if stock[0] == '^' else stock\n",
    "\n",
    "    file_location = outdir + stock_name + '.txt'\n",
    "\n",
    "    ## this function is scraping the data using yfinance, write it out to file_location, and return the df for future merge\n",
    "    df = get_yahoo_data(stock, file_location)\n",
    "\n",
    "    ## use popen to execute the single exe\n",
    "    ## because the program will require us to key-input to kill the process\n",
    "    ## we manually kill the program\n",
    "    \n",
    "    p=subprocess.Popen([exe_dir + 'single.exe', file_location, vs_file])\n",
    "    time.sleep(4)\n",
    "    p.kill()\n",
    "    print('enter is input, executable finishing')\n",
    "\n",
    "    ## single will create file '.\\OUTVARS.TXT' \n",
    "    ## we move to <ticker_name>_singal.txt file\n",
    "    ## loaded the file merge with our original data\n",
    "\n",
    "    signal_location = outdir + stock_name + '_signal.txt'\n",
    "    shutil.move('.\\OUTVARS.TXT', signal_location)\n",
    "\n",
    "    ## read signal file just created and update its dates\n",
    "    indicator = pd.read_csv(signal_location ,delim_whitespace=True)\n",
    "    indicator['Date'] = pd.to_datetime(indicator['Date'], format = '%Y%m%d')\n",
    "    indicator['Date'] = indicator['Date'].dt.strftime('%Y%m%d')\n",
    "\n",
    "    print('indicator file has shape', indicator.shape)\n",
    "\n",
    "    df_result = df.merge(indicator, left_on = 'Date', right_on = 'Date', how = 'left')\n",
    "\n",
    "    ## add two talib columns\n",
    "    df_result['RSI_20_ta'] = ta.RSI(np.array(df_result['Open']), timeperiod = 20)\n",
    "    df_result['RSI_25_ta'] = ta.RSI(np.array(df_result['Open']), timeperiod = 25)\n",
    "\n",
    "    df_result.to_csv( outdir + stock_name + '_full.csv', index=False)\n"
   ]
  }
 ],
 "metadata": {
  "kernelspec": {
   "display_name": "Python 3.8.3 ('base')",
   "language": "python",
   "name": "python3"
  },
  "language_info": {
   "codemirror_mode": {
    "name": "ipython",
    "version": 3
   },
   "file_extension": ".py",
   "mimetype": "text/x-python",
   "name": "python",
   "nbconvert_exporter": "python",
   "pygments_lexer": "ipython3",
   "version": "3.8.3"
  },
  "orig_nbformat": 4,
  "vscode": {
   "interpreter": {
    "hash": "40d3a090f54c6569ab1632332b64b2c03c39dcf918b08424e98f38b5ae0af88f"
   }
  }
 },
 "nbformat": 4,
 "nbformat_minor": 2
}
